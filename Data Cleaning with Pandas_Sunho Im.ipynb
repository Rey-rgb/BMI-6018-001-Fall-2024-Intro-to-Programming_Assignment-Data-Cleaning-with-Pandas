{
 "cells": [
  {
   "cell_type": "code",
   "execution_count": 3,
   "id": "0276dd3c-7abc-4e28-b4a2-ca8cddd2bc20",
   "metadata": {},
   "outputs": [],
   "source": [
    "# -*- codin\n",
    "#%% Libraries\n",
    "import pandas as pd\n",
    "import matplotlib.pyplot as plt\n",
    "import numpy as np"
   ]
  },
  {
   "cell_type": "code",
   "execution_count": 4,
   "id": "fab0b8bb-cb36-47d4-81ee-60ed5663672a",
   "metadata": {
    "scrolled": true
   },
   "outputs": [],
   "source": [
    "#%% Importing Data\n",
    "flights_data = pd.read_csv('flights.csv')\n",
    "flights_data.head(10)\n",
    "weather_data_pd = pd.read_csv('weather.csv')\n",
    "weather_data_np = weather_data_pd.to_numpy()"
   ]
  },
  {
   "cell_type": "code",
   "execution_count": 7,
   "id": "395696ad-a26d-4229-a413-15e1d7970157",
   "metadata": {
    "scrolled": true
   },
   "outputs": [
    {
     "name": "stdout",
     "output_type": "stream",
     "text": [
      "2113\n"
     ]
    }
   ],
   "source": [
    "#%% Pandas Data Filtering/Sorting Question Answering\n",
    "#use flights_dat\n",
    "#Question 1 How many flights were there from JFK to SLC? Int\n",
    "q_1 = ((flights_data[\"origin\"]== \"JFK\") & (flights_data[\"dest\"]== \"SLC\")).sum()\n",
    "print(q_1)"
   ]
  },
  {
   "cell_type": "code",
   "execution_count": 9,
   "id": "1d28b577-fe8d-4327-8486-1e64c01ad208",
   "metadata": {},
   "outputs": [
    {
     "name": "stdout",
     "output_type": "stream",
     "text": [
      "2467\n"
     ]
    }
   ],
   "source": [
    "#Question 2 How many airlines fly to SLC? Should be int\n",
    "q_2 = (flights_data[\"dest\"]== \"SLC\").sum()\n",
    "print(q_2)"
   ]
  },
  {
   "cell_type": "code",
   "execution_count": 97,
   "id": "bd161c92-8fce-45e1-afd8-d97695c53451",
   "metadata": {},
   "outputs": [
    {
     "name": "stdout",
     "output_type": "stream",
     "text": [
      "10.052380952380952\n"
     ]
    }
   ],
   "source": [
    "#Question 3 What is the average arrival delay for flights to RDU? float\n",
    "q_3 = flights_data.loc[flights_data['dest'] == \"RDU\", \"arr_delay\"].mean()\n",
    "\n",
    "print(q_3)"
   ]
  },
  {
   "cell_type": "code",
   "execution_count": 11,
   "id": "fa9737b9-8fac-43a9-8700-e8623d23d738",
   "metadata": {},
   "outputs": [
    {
     "name": "stdout",
     "output_type": "stream",
     "text": [
      "0.5332653581442773\n"
     ]
    }
   ],
   "source": [
    "#Question 4 What proportion of flights to SEA come from the two NYC airports (LGA and JFK)?  float\n",
    "q_4 = flights_data.loc[((flights_data[\"origin\"]== \"LGA\") & (flights_data[\"dest\"]==\"SEA\"))|((flights_data[\"origin\"]== \"JFK\") & (flights_data[\"dest\"]==\"SEA\"))].shape[0]/flights_data.loc[flights_data[\"dest\"]==\"SEA\"].shape[0]\n",
    "print(q_4)"
   ]
  },
  {
   "cell_type": "code",
   "execution_count": 13,
   "id": "98c71aab-cea8-406c-89e5-c84f6edc7c85",
   "metadata": {},
   "outputs": [
    {
     "name": "stdout",
     "output_type": "stream",
     "text": [
      "2013-03-08 00:00:00\n"
     ]
    }
   ],
   "source": [
    "#Question 5 Which date has the largest average depature delay? Pd slice with date and float\n",
    "#please make date a column. Preferred format is 2013/1/1 (y/m/d)\n",
    "flights_data['date'] = pd.to_datetime(flights_data[['year', 'month', 'day']])\n",
    "\n",
    "avg_dep_delay = flights_data.groupby('date')[\"dep_delay\"].mean()\n",
    "max_avg_dep_delay = avg_dep_delay.sort_values(ascending=False).iloc[0]\n",
    "\n",
    "q_5 = avg_dep_delay.sort_values(ascending=False).index[0]\n",
    "\n",
    "print(q_5)"
   ]
  },
  {
   "cell_type": "code",
   "execution_count": 15,
   "id": "42bf0df3-31d1-4070-b608-e07f80428e6f",
   "metadata": {},
   "outputs": [
    {
     "name": "stdout",
     "output_type": "stream",
     "text": [
      "2013-03-08 00:00:00\n"
     ]
    }
   ],
   "source": [
    "#Question 6 Which date has the largest average arrival delay? pd slice with date and float\n",
    "avg_arr_delay = flights_data.groupby(\"date\")[\"arr_delay\"].mean()\n",
    "max_avg_arr_delay = avg_arr_delay.sort_values(ascending=False).iloc[0]\n",
    "\n",
    "q_6 = avg_arr_delay.sort_values(ascending = False).index[0]\n",
    "\n",
    "print(q_6)"
   ]
  },
  {
   "cell_type": "code",
   "execution_count": 43,
   "id": "1911e3fc-6194-4bc3-9ce2-e461bcef6e4e",
   "metadata": {},
   "outputs": [
    {
     "name": "stdout",
     "output_type": "stream",
     "text": [
      "N755US\n"
     ]
    }
   ],
   "source": [
    "#Question 7 Which flight departing LGA or JFK in 2013 flew the fastest? pd slice with tailnumber and speed\n",
    "#speed = distance/airtime\n",
    "flights_data[\"speed\"] = flights_data[\"distance\"]/flights_data[\"air_time\"] \n",
    "flights_data_2013 = flights_data[(flights_data[\"year\"] == 2013) & ((flights_data[\"origin\"]== \"LGA\")|(flights_data[\"origin\"]== \"JFK\"))]\n",
    "flights_data_2013_sorted = flights_data_2013[[\"speed\",\"tailnum\"]].sort_values(by = \"speed\", ascending= True).head()\n",
    "q_7 = flights_data_2013_sorted[\"tailnum\"].iloc[0]\n",
    "print(q_7)"
   ]
  },
  {
   "cell_type": "code",
   "execution_count": 45,
   "id": "5c65840f-0b40-4218-b39f-6fe91d84acfd",
   "metadata": {},
   "outputs": [
    {
     "name": "stdout",
     "output_type": "stream",
     "text": [
      "Unnamed: 0    0\n",
      "origin        0\n",
      "year          0\n",
      "month         0\n",
      "day           0\n",
      "hour          0\n",
      "temp          0\n",
      "dewp          0\n",
      "humid         0\n",
      "wind_dir      0\n",
      "wind_speed    0\n",
      "wind_gust     0\n",
      "precip        0\n",
      "pressure      0\n",
      "visib         0\n",
      "dtype: int64\n"
     ]
    }
   ],
   "source": [
    "#Question 8 Replace all nans in the weather pd dataframe with 0s. Pd with no nans\n",
    "weather_data_pd.fillna(0, inplace = True) \n",
    "q_8 = weather_data_pd.isna().sum()\n",
    "print(q_8)"
   ]
  },
  {
   "cell_type": "code",
   "execution_count": 47,
   "id": "8998ef55-c9d0-49c2-b68b-7c5e02454e7c",
   "metadata": {},
   "outputs": [
    {
     "name": "stdout",
     "output_type": "stream",
     "text": [
      "671\n"
     ]
    }
   ],
   "source": [
    "#%% Numpy Data Filtering/Sorting Question Answering\n",
    "#Use weather_data_np\n",
    "#Question 9 How many observations were made in Feburary? Int\n",
    "filter = weather_data_np[:, 3] ==2\n",
    "q_9 = weather_data_np[filter].shape[0]\n",
    "\n",
    "print(q_9)"
   ]
  },
  {
   "cell_type": "code",
   "execution_count": 49,
   "id": "1150704c-6d76-40da-804a-04c86b6998ab",
   "metadata": {},
   "outputs": [
    {
     "name": "stdout",
     "output_type": "stream",
     "text": [
      "62.918152011922515\n"
     ]
    }
   ],
   "source": [
    "#Question 10 What was the mean for humidity in February? Float\n",
    "filter = weather_data_np[:, 3] ==2\n",
    "q_10 = weather_data_np[filter][:, 8].mean()\n",
    "\n",
    "print(q_10)"
   ]
  },
  {
   "cell_type": "code",
   "execution_count": 51,
   "id": "721fcffb-3a40-45e4-a4e7-a145d89eb51e",
   "metadata": {},
   "outputs": [
    {
     "name": "stdout",
     "output_type": "stream",
     "text": [
      "20.33690087674334\n"
     ]
    }
   ],
   "source": [
    "#Question 11 What was the std for humidity in February? Float\n",
    "filter = weather_data_np[:, 3] ==2\n",
    "q_11 = weather_data_np[filter][:, 8].std()\n",
    "\n",
    "print(q_11)"
   ]
  }
 ],
 "metadata": {
  "kernelspec": {
   "display_name": "Python 3 (ipykernel)",
   "language": "python",
   "name": "python3"
  },
  "language_info": {
   "codemirror_mode": {
    "name": "ipython",
    "version": 3
   },
   "file_extension": ".py",
   "mimetype": "text/x-python",
   "name": "python",
   "nbconvert_exporter": "python",
   "pygments_lexer": "ipython3",
   "version": "3.12.4"
  }
 },
 "nbformat": 4,
 "nbformat_minor": 5
}
